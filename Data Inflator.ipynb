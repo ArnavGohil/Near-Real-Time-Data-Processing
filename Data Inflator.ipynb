{
 "cells": [
  {
   "cell_type": "code",
   "execution_count": 4,
   "metadata": {
    "collapsed": true
   },
   "outputs": [],
   "source": [
    "import os\n",
    "import tweepy"
   ]
  },
  {
   "cell_type": "code",
   "execution_count": 5,
   "outputs": [],
   "source": [
    "import configparser\n",
    "config = configparser.ConfigParser()\n",
    "config.read_file(open('dwh.cfg'))\n",
    "\n",
    "consumer_key= config.get('KEY','consumer_key')\n",
    "consumer_secret= config.get('KEY','consumer_secret')\n",
    "access_token= config.get('KEY','access_token')\n",
    "access_token_secret= config.get('KEY','access_token_secret')\n",
    "\n",
    "os.environ[\"GOOGLE_APPLICATION_CREDENTIALS\"]=config.get('KEY','json_loc')\n",
    "\n",
    "auth= tweepy.OAuthHandler(consumer_key,consumer_secret)\n",
    "auth.set_access_token(access_token,access_token_secret)\n",
    "api = tweepy.API(auth, wait_on_rate_limit=True)"
   ],
   "metadata": {
    "collapsed": false,
    "pycharm": {
     "name": "#%%\n"
    }
   }
  },
  {
   "cell_type": "code",
   "execution_count": 41,
   "outputs": [],
   "source": [
    "from google.cloud import vision\n",
    "\n",
    "client = vision.ImageAnnotatorClient()\n",
    "image = vision.Image()\n",
    "\n",
    "def parseImage(imageURL):\n",
    "    image.source.image_uri = image_url\n",
    "    response = client.text_detection(image=image)\n",
    "    string = \"\"\n",
    "    for text in response.text_annotations:\n",
    "        string =  text.description\n",
    "        return string\n"
   ],
   "metadata": {
    "collapsed": false,
    "pycharm": {
     "name": "#%%\n"
    }
   }
  },
  {
   "cell_type": "code",
   "execution_count": 45,
   "outputs": [],
   "source": [
    "import re\n",
    "def parseString(string):\n",
    "    val = dict()\n",
    "\n",
    "    #Date\n",
    "    match=(re.search(\"/ \", string))\n",
    "    i = int(match.end())\n",
    "    match=(re.search(\"\\)\", string))\n",
    "    j = int(match.start())\n",
    "    print(string[i:j])\n",
    "    # val['day'] = string[:string.find(\" \")]\n",
    "    val['month'] = 'April'\n",
    "    val['year'] = '2021'\n",
    "\n",
    "\n",
    "    #+ve cases\n",
    "    i = string.find(\"Positive Cases\", string.find(\"Positive Cases\")+1)\n",
    "    match = (re.search(\"Tests Conducted\", string))\n",
    "    j = int(match.start())\n",
    "    val['positive'] = string[i + len(\"Positive Cases\") + 1 : j - 1]\n",
    "\n",
    "    #Tests\n",
    "    match=(re.search(\"Tests Conducted\", string))\n",
    "    i = int(match.end())\n",
    "    match=(re.search(\"Positivity Rate\", string))\n",
    "    j = int(match.start())\n",
    "    val['tests'] = string[i+1:j-1]\n",
    "\n",
    "    #Recovered\n",
    "    match=(re.search(\"%\", string))\n",
    "    i = int(match.end())\n",
    "    match=(re.search(\"Deaths\", string))\n",
    "    j = int(match.start())\n",
    "    val['recovered'] = string[i+1:j-1]\n",
    "\n",
    "    #Deaths\n",
    "    match=(re.search(\"Deaths\", string))\n",
    "    i = int(match.end())\n",
    "    match=(re.search(\"COVID-19 Patient Management\", string))\n",
    "    j = int(match.start())\n",
    "    val['deaths'] = string[i+1:j-1]\n",
    "\n",
    "    #Tot Vac\n",
    "    match=(re.search(\"Beneficiaries vaccinated in last 24 hours\", string))\n",
    "    i = int(match.end())\n",
    "    match=(re.search(\"Beneficiaries vaccinated 1\", string))\n",
    "    j = int(match.start())\n",
    "    val['vaccinated'] = string[i+1:j-1]\n",
    "\n",
    "    #1st dose\n",
    "    match=(re.search(\"dose in last 24 hours\", string))\n",
    "    i = int(match.end())\n",
    "    match=(re.search(\"Beneficiaries vaccinated 2\", string))\n",
    "    j = int(match.start())\n",
    "    val['first_dose'] = string[i+1:j-1]\n",
    "\n",
    "    #2nd dose\n",
    "    pat = \"dose in last 24 hours\"\n",
    "    match=(re.search(pat, string))\n",
    "    pos = string.find(pat)+1\n",
    "    p1 = string.find(pat, pos+1)\n",
    "    i = p1 + len(pat)\n",
    "    match=(re.search(\"Cumulative beneficiaries vaccinated so far\", string))\n",
    "    j = int(match.start())\n",
    "    val['second_dose'] = string[i+1:j-1]\n",
    "\n",
    "    #Active Cases\n",
    "    match=(re.search(\"Active Cases\", string))\n",
    "    i = int(match.end())\n",
    "    match=(re.search(\"Total Number of Containment Zones as on date\", string))\n",
    "    j = int(match.start())\n",
    "    val['active_cases'] = string[i+1:j-1]\n",
    "\n",
    "    #Containment\n",
    "    match=(re.search(\"Total Number of Containment Zones as on date: \", string))\n",
    "    i = int(match.end())\n",
    "    match=(re.search(\"Calls received\", string))\n",
    "    j = int(match.start())\n",
    "    val['zones'] = string[i:j-1]\n",
    "\n",
    "    print(val)\n",
    "    return val\n"
   ],
   "metadata": {
    "collapsed": false,
    "pycharm": {
     "name": "#%%\n"
    }
   }
  },
  {
   "cell_type": "code",
   "execution_count": 46,
   "outputs": [],
   "source": [
    "def addData(data):\n",
    "    return \"an\""
   ],
   "metadata": {
    "collapsed": false,
    "pycharm": {
     "name": "#%%\n"
    }
   }
  },
  {
   "cell_type": "code",
   "execution_count": 47,
   "outputs": [
    {
     "name": "stdout",
     "output_type": "stream",
     "text": [
      "May 5th 2021\n",
      "{'month': 'April', 'year': '2021', 'positive': '20960', 'tests': '79491', 'recovered': '19209', 'deaths': '311', 'vaccinated': '90365', 'first_dose': '64983', 'second_dose': '25382', 'active_cases': '91859', 'zones': '47704'}\n"
     ]
    }
   ],
   "source": [
    "date_since = \"2021-04-01\"\n",
    "search_words = \"Delhi Health Bulletin (from:CMODelhi)\"\n",
    "\n",
    "tweets = tweepy.Cursor(api.search,\n",
    "              q=search_words,\n",
    "              lang=\"en\",\n",
    "              since=date_since).items(1)\n",
    "\n",
    "for tweet in tweets:\n",
    "    media = tweet.entities.get('media', [])\n",
    "    image_url = media[0]['media_url']\n",
    "    parseString(parseImage(image_url))"
   ],
   "metadata": {
    "collapsed": false,
    "pycharm": {
     "name": "#%%\n"
    }
   }
  },
  {
   "cell_type": "code",
   "execution_count": null,
   "outputs": [],
   "source": [],
   "metadata": {
    "collapsed": false,
    "pycharm": {
     "name": "#%%\n"
    }
   }
  }
 ],
 "metadata": {
  "kernelspec": {
   "display_name": "Python 3",
   "language": "python",
   "name": "python3"
  },
  "language_info": {
   "codemirror_mode": {
    "name": "ipython",
    "version": 2
   },
   "file_extension": ".py",
   "mimetype": "text/x-python",
   "name": "python",
   "nbconvert_exporter": "python",
   "pygments_lexer": "ipython2",
   "version": "2.7.6"
  }
 },
 "nbformat": 4,
 "nbformat_minor": 0
}