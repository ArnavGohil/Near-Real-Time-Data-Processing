{
 "cells": [
  {
   "cell_type": "code",
   "execution_count": null,
   "metadata": {
    "collapsed": true,
    "jupyter": {
     "outputs_hidden": true
    }
   },
   "outputs": [],
   "source": [
    "import os\n",
    "import tweepy\n"
   ]
  },
  {
   "cell_type": "code",
   "execution_count": null,
   "metadata": {
    "collapsed": false,
    "jupyter": {
     "outputs_hidden": false
    },
    "pycharm": {
     "name": "#%%\n"
    }
   },
   "outputs": [],
   "source": [
    "import configparser\n",
    "config = configparser.ConfigParser()\n",
    "config.read_file(open('dwh.cfg'))\n",
    "\n",
    "consumer_key= config.get('KEY','consumer_key')\n",
    "consumer_secret= config.get('KEY','consumer_secret')\n",
    "access_token= config.get('KEY','access_token')\n",
    "access_token_secret= config.get('KEY','access_token_secret')\n",
    "\n",
    "os.environ[\"GOOGLE_APPLICATION_CREDENTIALS\"]=config.get('KEY','json_loc')\n",
    "\n",
    "auth= tweepy.OAuthHandler(consumer_key,consumer_secret)\n",
    "auth.set_access_token(access_token,access_token_secret)\n",
    "api = tweepy.API(auth, wait_on_rate_limit=True)"
   ]
  },
  {
   "cell_type": "code",
   "execution_count": null,
   "metadata": {
    "collapsed": false,
    "jupyter": {
     "outputs_hidden": false
    },
    "pycharm": {
     "name": "#%%\n"
    }
   },
   "outputs": [],
   "source": [
    "from google.cloud import vision\n",
    "\n",
    "client = vision.ImageAnnotatorClient()\n",
    "image = vision.Image()\n",
    "\n",
    "def parseImage(imageURL):\n",
    "    image.source.image_uri = imageURL\n",
    "    response = client.text_detection(image=image)\n",
    "    string = \"\"\n",
    "    for text in response.text_annotations:\n",
    "        string =  text.description\n",
    "        return string\n"
   ]
  },
  {
   "cell_type": "code",
   "execution_count": null,
   "metadata": {
    "collapsed": false,
    "jupyter": {
     "outputs_hidden": false
    },
    "pycharm": {
     "name": "#%%\n"
    }
   },
   "outputs": [],
   "source": [
    "def getDay(string) :\n",
    "    s = \"\"\n",
    "    for char in string:\n",
    "        if char.isdigit():\n",
    "            s += char\n",
    "\n",
    "    return int(s)"
   ]
  },
  {
   "cell_type": "code",
   "execution_count": null,
   "metadata": {
    "collapsed": false,
    "jupyter": {
     "outputs_hidden": false
    },
    "pycharm": {
     "name": "#%%\n"
    }
   },
   "outputs": [],
   "source": [
    "import re\n",
    "def parseString(string,mon):\n",
    "    val = dict()\n",
    "    try:\n",
    "        #Date\n",
    "        match=(re.search(\"/ \", string))\n",
    "        i = int(match.end())\n",
    "        match=(re.search(\"\\)\", string))\n",
    "        j = int(match.start())\n",
    "        print(string[i:j])\n",
    "        val['day'] = getDay(string[i:string.find(\"2021\") - 1])\n",
    "        val['month'] = mon\n",
    "        val['year'] = '2021'\n",
    "\n",
    "\n",
    "        #+ve cases\n",
    "        i = string.find(\"Positive Cases\", string.find(\"Positive Cases\")+1)\n",
    "        match = (re.search(\"Tests Conducted\", string))\n",
    "        j = int(match.start())\n",
    "        val['positive'] = string[i + len(\"Positive Cases\") + 1 : j - 1]\n",
    "\n",
    "        #Tests\n",
    "        match=(re.search(\"Tests Conducted\", string))\n",
    "        i = int(match.end())\n",
    "        match=(re.search(\"Positivity Rate\", string))\n",
    "        j = int(match.start())\n",
    "        val['tests'] = string[i+1:j-1]\n",
    "\n",
    "        #Recovered\n",
    "        match=(re.search(\"%\", string))\n",
    "        i = int(match.end())\n",
    "        match=(re.search(\"Deaths\", string))\n",
    "        j = int(match.start())\n",
    "        val['recovered'] = string[i+1:j-1]\n",
    "\n",
    "        #Deaths\n",
    "        match=(re.search(\"Deaths\", string))\n",
    "        i = int(match.end())\n",
    "        match=(re.search(\"COVID-19 Patient Management\", string))\n",
    "        j = int(match.start())\n",
    "        val['deaths'] = string[i+1:j-1]\n",
    "\n",
    "        #Tot Vac\n",
    "        match=(re.search(\"Beneficiaries vaccinated in last 24 hours\", string))\n",
    "        i = int(match.end())\n",
    "        match=(re.search(\"Beneficiaries vaccinated 1\", string))\n",
    "        j = int(match.start())\n",
    "        val['vaccinated'] = string[i+1:j-1]\n",
    "\n",
    "        #1st dose\n",
    "        match=(re.search(\"dose in last 24 hours\", string))\n",
    "        i = int(match.end())\n",
    "        match=(re.search(\"Beneficiaries vaccinated 2\", string))\n",
    "        j = int(match.start())\n",
    "        val['first_dose'] = string[i+1:j-1]\n",
    "\n",
    "        #2nd dose\n",
    "        pat = \"dose in last 24 hours\"\n",
    "        pos = string.find(pat)+1\n",
    "        p1 = string.find(pat, pos+1)\n",
    "        i = p1 + len(pat)\n",
    "        match=(re.search(\"Cumulative beneficiaries vaccinated so far\", string))\n",
    "        j = int(match.start())\n",
    "        val['second_dose'] = string[i+1:j-1]\n",
    "\n",
    "        #Active Cases\n",
    "        match=(re.search(\"Active Cases\", string))\n",
    "        i = int(match.end())\n",
    "        match=(re.search(\"Total Number of Containment Zones as on date\", string))\n",
    "        j = int(match.start())\n",
    "        val['active_cases'] = string[i+1:j-1]\n",
    "\n",
    "        #Containment\n",
    "        match=(re.search(\"Total Number of Containment Zones as on date: \", string))\n",
    "        i = int(match.end())\n",
    "        match=(re.search(\"Calls received\", string))\n",
    "        j = int(match.start())\n",
    "        val['zones'] = string[i:j-1]\n",
    "    except:\n",
    "        print(\"/\\/\\/\\ Error caught \\/\\/\\/\")\n",
    "        return None\n",
    "    print(val)\n",
    "    return val\n"
   ]
  },
  {
   "cell_type": "code",
   "execution_count": null,
   "metadata": {
    "collapsed": false,
    "jupyter": {
     "outputs_hidden": false
    },
    "pycharm": {
     "name": "#%%\n"
    }
   },
   "outputs": [],
   "source": [
    "#Add data to MySQL\n",
    "\n",
    "import mysql.connector as connector\n",
    "conn = connector.connect(\n",
    "  host=\"localhost\",\n",
    "  user=\"root\",\n",
    "  passwd=config.get('KEY','pass'),\n",
    "  database=\"casesheet\",\n",
    "    auth_plugin = 'mysql_native_password'\n",
    ")\n",
    "cursor = conn.cursor()\n",
    "\n",
    "sql = \"INSERT INTO cases VALUES ({},{},{},{},{},{},{},{},{},{},{},{})\"\n",
    "\n",
    "def addData(val):\n",
    "    try:\n",
    "        # Executing the SQL command\n",
    "        cursor.execute(sql.format(val['day'],\n",
    "                                  val['month'],\n",
    "                                  val['year'],\n",
    "                                  val['positive'],\n",
    "                                  val['tests'],\n",
    "                                  val['recovered'],\n",
    "                                  val['deaths'],\n",
    "                                  val['vaccinated'],\n",
    "                                  val['first_dose'],\n",
    "                                  val['second_dose'],\n",
    "                                  val['active_cases'],\n",
    "                                  val['zones']\n",
    "                                  ))\n",
    "        # Commit your changes in the database\n",
    "        conn.commit()\n",
    "\n",
    "    except:\n",
    "        print(\"### Error caught ### \")\n",
    "        print(sql.format(val['day'],val['month'],val['year'],val['positive'],val['tests'],val['recovered'],val['deaths'],val['vaccinated'],val['first_dose'],val['second_dose'],val['active_cases'],val['zones']))\n",
    "        conn.rollback()\n"
   ]
  },
  {
   "cell_type": "code",
   "execution_count": null,
   "metadata": {
    "collapsed": false,
    "jupyter": {
     "outputs_hidden": false
    },
    "pycharm": {
     "name": "#%%\n"
    }
   },
   "outputs": [],
   "source": [
    "#April Tweets\n",
    "tweets = [\"Eysd7CgU8AoskzN\",\"Eyx_-WeUUAA70JQ\",\"Ey3G4RFVoAQlH9o\",\"Ey8a9VQUcAYJDae\",\"EzBaCycWUAIymQP\",\n",
    "          \"EzGjfefVgAkhXt1\",\"EzMHt6FUYAEDq69\",\"EzQvBoyVcAkwjkP\",\"EzWi3tmVgAIpm09\",\"Ezbr0IzVUAYOqBI\",\n",
    "          \"Ezg7_j0VUAE_XZE\",\"Ezl7iJdVoAQGhD4\",\"EzrJS2qVcAI6xlj\",\"EzwYaR_VkAESS39\",\"Ez1K5VzUUAUpj7n\",\n",
    "          \"Ez6twybUUAQR5WZ\",\"Ez_29t-VIAErDLe\",\"E0Hum4-VcAoc777\",\"E0KBXEcVEAQ5Fcm\",\"E0POc7uVgAE-d2a\"]\n",
    "\n",
    "image_url = \"http://pbs.twimg.com/media/{}.jpg\"\n",
    "for tweet in tweets:\n",
    "    val = parseString(parseImage(image_url.format(tweet)),4)\n",
    "    if (val != None) :\n",
    "        addData(val)\n",
    "\n",
    "conn.close()"
   ]
  },
  {
   "cell_type": "code",
   "execution_count": null,
   "metadata": {
    "collapsed": false,
    "jupyter": {
     "outputs_hidden": false
    },
    "pycharm": {
     "name": "#%%\n"
    }
   },
   "outputs": [],
   "source": [
    "#May Tweets\n",
    "search_words = \"Delhi Health Bulletin (from:CMODelhi)\"\n",
    "date_since = \"2021-05-01\"\n",
    "\n",
    "tweets = tweepy.Cursor(api.search,\n",
    "              q=search_words,\n",
    "              lang=\"en\",\n",
    "              since=date_since).items(1)\n",
    "\n",
    "image_url = \"\"\n",
    "# Iterate and print tweets\n",
    "for tweet in tweets:\n",
    "    media = tweet.entities.get('media', [])\n",
    "    image_url = media[0]['media_url']\n",
    "    addData(parseString(parseImage(image_url),5))\n",
    "\n",
    "conn.close()\n"
   ]
  },
  {
   "cell_type": "code",
   "execution_count": null,
   "metadata": {
    "collapsed": false,
    "jupyter": {
     "outputs_hidden": false
    },
    "pycharm": {
     "name": "#%%\n"
    }
   },
   "outputs": [],
   "source": [
    "import json\n",
    "#Edit 7th May data -\n",
    "lis = list()\n",
    "data = json.load(open(\"07-05-2021-centers.json\"))\n",
    "\n",
    "for pin in data:\n",
    "    array = data[pin]\n",
    "    for cen in array:\n",
    "        lis.append(cen)\n"
   ]
  },
  {
   "cell_type": "code",
   "execution_count": null,
   "metadata": {
    "collapsed": false,
    "jupyter": {
     "outputs_hidden": false
    },
    "pycharm": {
     "name": "#%%\n"
    }
   },
   "outputs": [],
   "source": [
    "with open(\"{}-centers.json\".format(\"07-05-2021\"), \"w\") as outfile:\n",
    "    json.dump(lis, outfile)"
   ]
  },
  {
   "cell_type": "code",
   "execution_count": null,
   "outputs": [],
   "source": [
    "import configparser\n",
    "import psycopg2\n",
    "\n",
    "config = configparser.ConfigParser()\n",
    "config.read('dwh.cfg')\n",
    "\n",
    "# Connect to DB and return the connection\n",
    "conn = psycopg2.connect(\"host={} dbname={} user={} password={} port={}\".format(*config['CLUSTER'].values()))\n",
    "cur = conn.cursor()"
   ],
   "metadata": {
    "collapsed": false,
    "pycharm": {
     "name": "#%%\n"
    }
   }
  },
  {
   "cell_type": "code",
   "execution_count": null,
   "metadata": {
    "collapsed": false,
    "jupyter": {
     "outputs_hidden": false
    },
    "pycharm": {
     "name": "#%%\n"
    }
   },
   "outputs": [],
   "source": [
    "#Add Prev Vac Data\n",
    "import json\n",
    "jsons = [\"07-05-2021-centers.json\",\"08-05-2021-centers.json\",\"09-05-2021-centers.json\"]\n",
    "\n",
    "query = \"INSERT INTO CENTERS(day,month,year,center_id,name,pincode,district_name,vaccine,min_age_limit,fee) \" \\\n",
    "        \"VALUES({day},{month},{year},{center_id},'{name}',{pincode},'{district_name}','{vaccine}',{min_age_limit},{fee})\"\n",
    "\n",
    "\n",
    "for dat in jsons:\n",
    "    data = json.load(open(dat))\n",
    "    for vaues in data:\n",
    "        str = query.format(**vaues)\n",
    "        print(str)\n",
    "        cur.execute(str)\n",
    "        conn.commit()\n",
    "\n",
    "conn.close()"
   ]
  },
  {
   "cell_type": "code",
   "execution_count": null,
   "outputs": [],
   "source": [
    "#Add prev cases data\n",
    "\n"
   ],
   "metadata": {
    "collapsed": false,
    "pycharm": {
     "name": "#%%\n"
    }
   }
  },
  {
   "cell_type": "code",
   "execution_count": null,
   "outputs": [],
   "source": [],
   "metadata": {
    "collapsed": false,
    "pycharm": {
     "name": "#%%\n"
    }
   }
  }
 ],
 "metadata": {
  "kernelspec": {
   "display_name": "Python 3",
   "language": "python",
   "name": "python3"
  },
  "language_info": {
   "codemirror_mode": {
    "name": "ipython",
    "version": 3
   },
   "file_extension": ".py",
   "mimetype": "text/x-python",
   "name": "python",
   "nbconvert_exporter": "python",
   "pygments_lexer": "ipython3",
   "version": "3.8.5"
  }
 },
 "nbformat": 4,
 "nbformat_minor": 4
}