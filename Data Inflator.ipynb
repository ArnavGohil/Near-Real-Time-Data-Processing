{
 "cells": [
  {
   "cell_type": "code",
   "execution_count": 1,
   "metadata": {
    "collapsed": true
   },
   "outputs": [],
   "source": [
    "import os\n",
    "import tweepy\n"
   ]
  },
  {
   "cell_type": "code",
   "execution_count": 2,
   "outputs": [],
   "source": [
    "import configparser\n",
    "config = configparser.ConfigParser()\n",
    "config.read_file(open('dwh.cfg'))\n",
    "\n",
    "consumer_key= config.get('KEY','consumer_key')\n",
    "consumer_secret= config.get('KEY','consumer_secret')\n",
    "access_token= config.get('KEY','access_token')\n",
    "access_token_secret= config.get('KEY','access_token_secret')\n",
    "\n",
    "os.environ[\"GOOGLE_APPLICATION_CREDENTIALS\"]=config.get('KEY','json_loc')\n",
    "\n",
    "auth= tweepy.OAuthHandler(consumer_key,consumer_secret)\n",
    "auth.set_access_token(access_token,access_token_secret)\n",
    "api = tweepy.API(auth, wait_on_rate_limit=True)"
   ],
   "metadata": {
    "collapsed": false,
    "pycharm": {
     "name": "#%%\n"
    }
   }
  },
  {
   "cell_type": "code",
   "execution_count": 6,
   "outputs": [
    {
     "name": "stdout",
     "output_type": "stream",
     "text": [
      "Traceback (most recent call last):\r\n",
      "  File \"/Users/arnavgohil/.conda/envs/RealTimeDP/bin/pip\", line 7, in <module>\r\n",
      "    from pip._internal.cli.main import main\r\n",
      "  File \"/Users/arnavgohil/.conda/envs/RealTimeDP/lib/python3.8/site-packages/pip/_internal/cli/main.py\", line 8, in <module>\r\n",
      "    from pip._internal.cli.autocompletion import autocomplete\r\n",
      "  File \"/Users/arnavgohil/.conda/envs/RealTimeDP/lib/python3.8/site-packages/pip/_internal/cli/autocompletion.py\", line 9, in <module>\r\n",
      "    from pip._internal.cli.main_parser import create_main_parser\r\n",
      "  File \"/Users/arnavgohil/.conda/envs/RealTimeDP/lib/python3.8/site-packages/pip/_internal/cli/main_parser.py\", line 7, in <module>\r\n",
      "    from pip._internal.cli import cmdoptions\r\n",
      "  File \"/Users/arnavgohil/.conda/envs/RealTimeDP/lib/python3.8/site-packages/pip/_internal/cli/cmdoptions.py\", line 22, in <module>\r\n",
      "    from pip._internal.cli.progress_bars import BAR_TYPES\r\n",
      "  File \"/Users/arnavgohil/.conda/envs/RealTimeDP/lib/python3.8/site-packages/pip/_internal/cli/progress_bars.py\", line 9, in <module>\r\n",
      "    from pip._internal.utils.logging import get_indentation\r\n",
      "  File \"/Users/arnavgohil/.conda/envs/RealTimeDP/lib/python3.8/site-packages/pip/_internal/utils/logging.py\", line 14, in <module>\r\n",
      "    from pip._internal.utils.misc import ensure_dir\r\n",
      "  File \"/Users/arnavgohil/.conda/envs/RealTimeDP/lib/python3.8/site-packages/pip/_internal/utils/misc.py\", line 29, in <module>\r\n",
      "    from pip._internal.locations import get_major_minor_version, site_packages, user_site\r\n",
      "  File \"/Users/arnavgohil/.conda/envs/RealTimeDP/lib/python3.8/site-packages/pip/_internal/locations/__init__.py\", line 9, in <module>\r\n",
      "    from . import _distutils, _sysconfig\r\n",
      "  File \"/Users/arnavgohil/.conda/envs/RealTimeDP/lib/python3.8/site-packages/pip/_internal/locations/_sysconfig.py\", line 8, in <module>\r\n",
      "    from pip._internal.exceptions import InvalidSchemeCombination, UserInstallationInvalid\r\n",
      "ImportError: cannot import name 'InvalidSchemeCombination' from 'pip._internal.exceptions' (/Users/arnavgohil/.conda/envs/RealTimeDP/lib/python3.8/site-packages/pip/_internal/exceptions.py)\r\n"
     ]
    }
   ],
   "source": [
    "!pip install google.cloud --user"
   ],
   "metadata": {
    "collapsed": false,
    "pycharm": {
     "name": "#%%\n"
    }
   }
  },
  {
   "cell_type": "code",
   "execution_count": 1,
   "outputs": [],
   "source": [
    "from google.cloud import vision\n",
    "\n",
    "client = vision.ImageAnnotatorClient()\n",
    "image = vision.Image()\n",
    "\n",
    "def parseImage(imageURL):\n",
    "    image.source.image_uri = image_url\n",
    "    response = client.text_detection(image=image)\n",
    "    string = \"\"\n",
    "    for text in response.text_annotations:\n",
    "        string =  text.description\n",
    "        return string\n"
   ],
   "metadata": {
    "collapsed": false,
    "pycharm": {
     "name": "#%%\n"
    }
   }
  },
  {
   "cell_type": "code",
   "execution_count": 4,
   "outputs": [],
   "source": [
    "def getDay(string) :\n",
    "    s = \"\"\n",
    "    for char in string:\n",
    "        if char.isdigit():\n",
    "            s += char\n",
    "\n",
    "    return int(s)"
   ],
   "metadata": {
    "collapsed": false,
    "pycharm": {
     "name": "#%%\n"
    }
   }
  },
  {
   "cell_type": "code",
   "execution_count": 5,
   "outputs": [],
   "source": [
    "import re\n",
    "def parseString(string):\n",
    "    val = dict()\n",
    "\n",
    "    #Date\n",
    "    match=(re.search(\"/ \", string))\n",
    "    i = int(match.end())\n",
    "    match=(re.search(\"\\)\", string))\n",
    "    j = int(match.start())\n",
    "    print(string[i:j])\n",
    "    val['day'] = getDay(string[i:string.find(\"2021\") - 1])\n",
    "    val['month'] = 'April'\n",
    "    val['year'] = '2021'\n",
    "\n",
    "\n",
    "    #+ve cases\n",
    "    i = string.find(\"Positive Cases\", string.find(\"Positive Cases\")+1)\n",
    "    match = (re.search(\"Tests Conducted\", string))\n",
    "    j = int(match.start())\n",
    "    val['positive'] = string[i + len(\"Positive Cases\") + 1 : j - 1]\n",
    "\n",
    "    #Tests\n",
    "    match=(re.search(\"Tests Conducted\", string))\n",
    "    i = int(match.end())\n",
    "    match=(re.search(\"Positivity Rate\", string))\n",
    "    j = int(match.start())\n",
    "    val['tests'] = string[i+1:j-1]\n",
    "\n",
    "    #Recovered\n",
    "    match=(re.search(\"%\", string))\n",
    "    i = int(match.end())\n",
    "    match=(re.search(\"Deaths\", string))\n",
    "    j = int(match.start())\n",
    "    val['recovered'] = string[i+1:j-1]\n",
    "\n",
    "    #Deaths\n",
    "    match=(re.search(\"Deaths\", string))\n",
    "    i = int(match.end())\n",
    "    match=(re.search(\"COVID-19 Patient Management\", string))\n",
    "    j = int(match.start())\n",
    "    val['deaths'] = string[i+1:j-1]\n",
    "\n",
    "    #Tot Vac\n",
    "    match=(re.search(\"Beneficiaries vaccinated in last 24 hours\", string))\n",
    "    i = int(match.end())\n",
    "    match=(re.search(\"Beneficiaries vaccinated 1\", string))\n",
    "    j = int(match.start())\n",
    "    val['vaccinated'] = string[i+1:j-1]\n",
    "\n",
    "    #1st dose\n",
    "    match=(re.search(\"dose in last 24 hours\", string))\n",
    "    i = int(match.end())\n",
    "    match=(re.search(\"Beneficiaries vaccinated 2\", string))\n",
    "    j = int(match.start())\n",
    "    val['first_dose'] = string[i+1:j-1]\n",
    "\n",
    "    #2nd dose\n",
    "    pat = \"dose in last 24 hours\"\n",
    "    pos = string.find(pat)+1\n",
    "    p1 = string.find(pat, pos+1)\n",
    "    i = p1 + len(pat)\n",
    "    match=(re.search(\"Cumulative beneficiaries vaccinated so far\", string))\n",
    "    j = int(match.start())\n",
    "    val['second_dose'] = string[i+1:j-1]\n",
    "\n",
    "    #Active Cases\n",
    "    match=(re.search(\"Active Cases\", string))\n",
    "    i = int(match.end())\n",
    "    match=(re.search(\"Total Number of Containment Zones as on date\", string))\n",
    "    j = int(match.start())\n",
    "    val['active_cases'] = string[i+1:j-1]\n",
    "\n",
    "    #Containment\n",
    "    match=(re.search(\"Total Number of Containment Zones as on date: \", string))\n",
    "    i = int(match.end())\n",
    "    match=(re.search(\"Calls received\", string))\n",
    "    j = int(match.start())\n",
    "    val['zones'] = string[i:j-1]\n",
    "\n",
    "    print(val)\n",
    "    return val\n"
   ],
   "metadata": {
    "collapsed": false,
    "pycharm": {
     "name": "#%%\n"
    }
   }
  },
  {
   "cell_type": "code",
   "execution_count": 24,
   "outputs": [],
   "source": [
    "#Add data to MySQL\n",
    "\n",
    "import mysql.connector as connector\n",
    "conn = connector.connect(\n",
    "  host=\"localhost\",\n",
    "  user=\"root\",\n",
    "  passwd=config.get('KEY','pass'),\n",
    "  database=\"casesheet\"\n",
    ")\n",
    "cursor = conn.cursor()\n",
    "\n",
    "sql = \"INSERT INTO cases VALUES ({},{},{},{},{},{},{},{},{},{},{},{})\"\n",
    "\n",
    "def addData(val):\n",
    "    try:\n",
    "        # Executing the SQL command\n",
    "        cursor.execute(sql.format(val['day'],\n",
    "                                  val['month'],\n",
    "                                  val['year'],\n",
    "                                  val['positive'],\n",
    "                                  val['tests'],\n",
    "                                  val['recovered'],\n",
    "                                  val['deaths'],\n",
    "                                  val['vaccinated'],\n",
    "                                  val['first_dose'],\n",
    "                                  val['second_dose'],\n",
    "                                  val['active_cases'],\n",
    "                                  val['zones']\n",
    "                                  ))\n",
    "        # Commit your changes in the database\n",
    "        conn.commit()\n",
    "\n",
    "    except:\n",
    "        print(\"### Error caught ###\\n\")\n",
    "        conn.rollback()\n"
   ],
   "metadata": {
    "collapsed": false,
    "pycharm": {
     "name": "#%%\n"
    }
   }
  },
  {
   "cell_type": "code",
   "execution_count": 19,
   "outputs": [
    {
     "name": "stdout",
     "output_type": "stream",
     "text": [
      "May 5th 2021\n",
      "{'day': 5, 'month': 'April', 'year': '2021', 'positive': '20960', 'tests': '79491', 'recovered': '19209', 'deaths': '311', 'vaccinated': '90365', 'first_dose': '64983', 'second_dose': '25382', 'active_cases': '91859', 'zones': '47704'}\n",
      "May 4th 2021\n",
      "{'day': 4, 'month': 'April', 'year': '2021', 'positive': '19953', 'tests': '74654', 'recovered': '18788', 'deaths': '338', 'vaccinated': '89297', 'first_dose': '61662', 'second_dose': '', 'active_cases': '90419', 'zones': '46173'}\n",
      "May 3rd 2021\n",
      "{'day': 3, 'month': 'April', 'year': '2021', 'positive': '18043', 'tests': '61045', 'recovered': '20293', 'deaths': '448', 'vaccinated': '1611', 'first_dose': '1260', 'second_dose': '351', 'active_cases': '89592', 'zones': '44052'}\n",
      "May 2nd 2021\n",
      "{'day': 2, 'month': 'April', 'year': '2021', 'positive': '20394', 'tests': '71997', 'recovered': '24444', 'deaths': '407', 'vaccinated': '49633', 'first_dose': '28775', 'second_dose': '20858', 'active_cases': '92290', 'zones': '42098'}\n",
      "May 1st 2021\n",
      "{'day': 1, 'month': 'April', 'year': '2021', 'positive': '25219', 'tests': '79780', 'recovered': '27421', 'deaths': '412', 'vaccinated': '45353', 'first_dose': '21828', 'second_dose': '23525', 'active_cases': '', 'zones': '39556'}\n",
      "April 30th 2021\n",
      "{'day': 30, 'month': 'April', 'year': '2021', 'positive': '27047', 'tests': '82745', 'recovered': '25288', 'deaths': '375', 'vaccinated': '74250', 'first_dose': '42917', 'second_dose': '31333', 'active_cases': '99361', 'zones': '37223'}\n",
      "April 29th 2021\n",
      "{'day': 29, 'month': 'April', 'year': '2021', 'positive': '24235', 'tests': '73851', 'recovered': '25615', 'deaths': '395', 'vaccinated': '31761', 'first_dose': '', 'second_dose': '15589\\n16172', 'active_cases': '97977', 'zones': '35924'}\n",
      "April 28h 2021\n",
      "{'day': 28, 'month': 'April', 'year': '2021', 'positive': '25986', 'tests': '81829', 'recovered': '24130', 'deaths': '368', 'vaccinated': '51718', 'first_dose': '32272', 'second_dose': '19446', 'active_cases': '99752', 'zones': '33749'}\n",
      "April 28 2021\n",
      "{'day': 28, 'month': 'April', 'year': '2021', 'positive': '25986', 'tests': '81829', 'recovered': '20458', 'deaths': '368', 'vaccinated': '', 'first_dose': '51718\\n32272', 'second_dose': '19446', 'active_cases': '99752', 'zones': '33749'}\n"
     ]
    }
   ],
   "source": [
    "date_since = \"2021-04-01\"\n",
    "search_words = \"Delhi Health Bulletin (from:CMODelhi)\"\n",
    "\n",
    "tweets = tweepy.Cursor(api.search,\n",
    "              q=search_words,\n",
    "              lang=\"en\",\n",
    "              since=date_since).items(30)\n",
    "\n",
    "for tweet in tweets:\n",
    "    media = tweet.entities.get('media', [])\n",
    "    image_url = media[0]['media_url']\n",
    "    parseString(parseImage(image_url))\n",
    "\n",
    "conn.close()"
   ],
   "metadata": {
    "collapsed": false,
    "pycharm": {
     "name": "#%%\n"
    }
   }
  },
  {
   "cell_type": "code",
   "execution_count": null,
   "outputs": [],
   "source": [],
   "metadata": {
    "collapsed": false,
    "pycharm": {
     "name": "#%%\n"
    }
   }
  }
 ],
 "metadata": {
  "kernelspec": {
   "display_name": "Python 3",
   "language": "python",
   "name": "python3"
  },
  "language_info": {
   "codemirror_mode": {
    "name": "ipython",
    "version": 2
   },
   "file_extension": ".py",
   "mimetype": "text/x-python",
   "name": "python",
   "nbconvert_exporter": "python",
   "pygments_lexer": "ipython2",
   "version": "2.7.6"
  }
 },
 "nbformat": 4,
 "nbformat_minor": 0
}