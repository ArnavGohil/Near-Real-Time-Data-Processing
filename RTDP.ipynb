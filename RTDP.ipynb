{
 "cells": [
  {
   "cell_type": "code",
   "execution_count": null,
   "metadata": {
    "tags": []
   },
   "outputs": [],
   "source": [
    "import os\n",
    "import tweepy"
   ]
  },
  {
   "cell_type": "code",
   "execution_count": null,
   "metadata": {
    "pycharm": {
     "name": "#%%\n"
    }
   },
   "outputs": [],
   "source": [
    "import configparser\n",
    "\n",
    "config = configparser.ConfigParser()\n",
    "config.read_file(open('dwh.cfg'))\n",
    "\n",
    "consumer_key = config.get('KEY', 'consumer_key')\n",
    "consumer_secret = config.get('KEY', 'consumer_secret')\n",
    "access_token = config.get('KEY', 'access_token')\n",
    "access_token_secret = config.get('KEY', 'access_token_secret')\n",
    "\n",
    "os.environ[\"GOOGLE_APPLICATION_CREDENTIALS\"] = config.get('KEY', 'json_loc')\n",
    "\n",
    "auth = tweepy.OAuthHandler(consumer_key, consumer_secret)\n",
    "auth.set_access_token(access_token, access_token_secret)\n",
    "api = tweepy.API(auth, wait_on_rate_limit=True)"
   ]
  },
  {
   "cell_type": "code",
   "execution_count": null,
   "metadata": {
    "pycharm": {
     "name": "#%%\n"
    }
   },
   "outputs": [],
   "source": [
    "search_words = \"Delhi Health Bulletin (from:CMODelhi)\"\n",
    "\n",
    "tweets = tweepy.Cursor(api.search,\n",
    "                       q=search_words,\n",
    "                       lang=\"en\", ).items(1)\n",
    "\n",
    "image_url = \"\"\n",
    "# Iterate and print tweets\n",
    "for tweet in tweets:\n",
    "    print(tweet.text)\n",
    "    media = tweet.entities.get('media', [])\n",
    "    image_url = media[0]['media_url']\n",
    "    print(\"\\n\\n\")"
   ]
  },
  {
   "cell_type": "code",
   "execution_count": null,
   "metadata": {
    "pycharm": {
     "name": "#%%\n"
    }
   },
   "outputs": [],
   "source": [
    "from google.cloud import vision\n",
    "\n",
    "client = vision.ImageAnnotatorClient()\n",
    "image = vision.Image()\n",
    "image.source.image_uri = image_url\n",
    "\n",
    "response = client.text_detection(image=image)\n",
    "\n",
    "string = \"\"\n",
    "for text in response.text_annotations:\n",
    "    string = text.description\n",
    "    print(string)\n",
    "    break"
   ]
  },
  {
   "cell_type": "code",
   "execution_count": null,
   "metadata": {
    "pycharm": {
     "name": "#%%\n"
    }
   },
   "outputs": [],
   "source": [
    "import re\n",
    "from datetime import datetime\n",
    "\n",
    "\n",
    "def getDay(string):\n",
    "    s = \"\"\n",
    "    for char in string:\n",
    "        if char.isdigit():\n",
    "            s += char\n",
    "\n",
    "    return int(s)\n",
    "\n",
    "\n",
    "def parseString(string):\n",
    "    val = dict()\n",
    "    try:\n",
    "        #Date\n",
    "        match = (re.search(\"/ \", string))\n",
    "        i = int(match.end())\n",
    "        match = (re.search(\"\\)\", string))\n",
    "        j = int(match.start())\n",
    "        print(string[i:j])\n",
    "        val['day'] = getDay(string[i:string.find(str(datetime.today().year)) - 1])\n",
    "        val['month'] = datetime.today().month\n",
    "        val['year'] = datetime.today().year\n",
    "\n",
    "        #+ve cases\n",
    "        i = string.find(\"Positive Cases\", string.find(\"Positive Cases\") + 1)\n",
    "        match = (re.search(\"Tests Conducted\", string))\n",
    "        j = int(match.start())\n",
    "        val['positive'] = string[i + len(\"Positive Cases\") + 1: j - 1]\n",
    "\n",
    "        #Tests\n",
    "        match = (re.search(\"Tests Conducted\", string))\n",
    "        i = int(match.end())\n",
    "        match = (re.search(\"Positivity Rate\", string))\n",
    "        j = int(match.start())\n",
    "        val['tests'] = string[i + 1:j - 1]\n",
    "\n",
    "        #Recovered\n",
    "        match = (re.search(\"%\", string))\n",
    "        i = int(match.end())\n",
    "        match = (re.search(\"Deaths\", string))\n",
    "        j = int(match.start())\n",
    "        val['recovered'] = string[i + 1:j - 1]\n",
    "\n",
    "        #Deaths\n",
    "        match = (re.search(\"Deaths\", string))\n",
    "        i = int(match.end())\n",
    "        match = (re.search(\"COVID-19 Patient Management\", string))\n",
    "        j = int(match.start())\n",
    "        val['deaths'] = string[i + 1:j - 1]\n",
    "\n",
    "        #Tot Vac\n",
    "        match = (re.search(\"Beneficiaries vaccinated in last 24 hours\", string))\n",
    "        i = int(match.end())\n",
    "        match = (re.search(\"Beneficiaries vaccinated 1\", string))\n",
    "        j = int(match.start())\n",
    "        val['vaccinated'] = string[i + 1:j - 1]\n",
    "\n",
    "        #1st dose\n",
    "        match = (re.search(\"dose in last 24 hours\", string))\n",
    "        i = int(match.end())\n",
    "        match = (re.search(\"Beneficiaries vaccinated 2\", string))\n",
    "        j = int(match.start())\n",
    "        val['first_dose'] = string[i + 1:j - 1]\n",
    "\n",
    "        #2nd dose\n",
    "        pat = \"dose in last 24 hours\"\n",
    "        pos = string.find(pat) + 1\n",
    "        p1 = string.find(pat, pos + 1)\n",
    "        i = p1 + len(pat)\n",
    "        match = (re.search(\"Cumulative beneficiaries vaccinated so far\", string))\n",
    "        j = int(match.start())\n",
    "        val['second_dose'] = string[i + 1:j - 1]\n",
    "\n",
    "        #Active Cases\n",
    "        match = (re.search(\"Active Cases\", string))\n",
    "        i = int(match.end())\n",
    "        match = (re.search(\"Total Number of Containment Zones as on date\", string))\n",
    "        j = int(match.start())\n",
    "        val['active_cases'] = string[i + 1:j - 1]\n",
    "\n",
    "        #Containment\n",
    "        match = (re.search(\"Total Number of Containment Zones as on date: \", string))\n",
    "        i = int(match.end())\n",
    "        match = (re.search(\"Calls received\", string))\n",
    "        j = int(match.start())\n",
    "        val['zones'] = string[i:j - 1]\n",
    "    except:\n",
    "        print(\"/\\/\\/\\ Error caught \\/\\/\\/\")\n",
    "        return None\n",
    "    print(val)\n",
    "    return val"
   ]
  },
  {
   "cell_type": "code",
   "execution_count": null,
   "metadata": {
    "pycharm": {
     "name": "#%%\n"
    }
   },
   "outputs": [],
   "source": [
    "val = parseString(string)"
   ]
  },
  {
   "cell_type": "markdown",
   "metadata": {
    "pycharm": {
     "name": "#%% md\n"
    }
   },
   "source": [
    "### Vaccinations"
   ]
  },
  {
   "cell_type": "code",
   "execution_count": null,
   "metadata": {
    "pycharm": {
     "name": "#%%\n"
    }
   },
   "outputs": [],
   "source": [
    "import json\n",
    "\n",
    "def parseJSON(js,date , lis , dat ):\n",
    "    centres = js['centers']\n",
    "    for center in centres:\n",
    "        sessions = center['sessions']\n",
    "        for ses in sessions:\n",
    "            if (ses['date'] == date ) :\n",
    "                val = dict()\n",
    "                val['day'] = dat.day\n",
    "                val['month'] = dat.month\n",
    "                val['year'] = dat.year\n",
    "                val['center_id'] = center['center_id']\n",
    "                val['name'] = center['name']\n",
    "                val['pincode'] = center['pincode']\n",
    "                val['district_name'] = center['district_name']\n",
    "                val['vaccine'] = ses['vaccine']\n",
    "                val['min_age_limit'] = ses['min_age_limit']\n",
    "                try :\n",
    "                    if (center['fee_type'] == \"Paid\"):\n",
    "                        val['fee'] = center['vaccine_fees'][0]['fee']\n",
    "                    else :\n",
    "                        val['fee'] =  0\n",
    "                except:\n",
    "                    val['fee'] =  0\n",
    "                lis.append(val)\n"
   ]
  },
  {
   "cell_type": "code",
   "execution_count": null,
   "metadata": {
    "pycharm": {
     "name": "#%%\n"
    }
   },
   "outputs": [],
   "source": [
    "import requests\n",
    "import datetime\n",
    "\n",
    "payload = {}\n",
    "headers = {\n",
    "    'User-Agent': 'Mozilla/5.0 (Macintosh; Intel Mac OS X 10_15_7) AppleWebKit/605.1.15 (KHTML, like Gecko) Version/14.1 Safari/605.1.15'\n",
    "}\n",
    "\n",
    "i = 110001\n",
    "j = 110096\n",
    "\n",
    "lis = list()\n",
    "url = \"https://cdn-api.co-vin.in/api/v2/appointment/sessions/public/calendarByPin?pincode={}&date={}\"\n",
    "y = datetime.datetime.now()\n",
    "date = y.strftime(\"%d-%m-%Y\")\n",
    "\n",
    "while i <= j:\n",
    "    response = requests.get(url.format(i, date), headers=headers, data=payload)\n",
    "    print(i)\n",
    "    parseJSON(response.json(),date, lis , y)\n",
    "    i += 1"
   ]
  },
  {
   "cell_type": "code",
   "execution_count": null,
   "metadata": {
    "pycharm": {
     "name": "#%%\n"
    }
   },
   "outputs": [],
   "source": [
    "import json\n",
    "file = \"{}-centers.json\".format(date)\n",
    "with open(file, \"w\") as outfile:\n",
    "    json.dump(lis, outfile)\n"
   ]
  },
  {
   "cell_type": "markdown",
   "source": [
    "### Uploading to Redshift"
   ],
   "metadata": {
    "collapsed": false,
    "pycharm": {
     "name": "#%% md\n"
    }
   }
  },
  {
   "cell_type": "code",
   "execution_count": null,
   "metadata": {
    "pycharm": {
     "name": "#%%\n"
    }
   },
   "outputs": [],
   "source": [
    "import configparser\n",
    "import psycopg2\n",
    "\n",
    "config = configparser.ConfigParser()\n",
    "config.read('dwh.cfg')\n",
    "\n",
    "# Connect to DB and return the connection\n",
    "conn = psycopg2.connect(\"host={} dbname={} user={} password={} port={}\".format(*config['CLUSTER'].values()))\n",
    "cur = conn.cursor()\n"
   ]
  },
  {
   "cell_type": "code",
   "execution_count": null,
   "metadata": {
    "pycharm": {
     "name": "#%%\n"
    }
   },
   "outputs": [],
   "source": [
    "query = \"\"\"\n",
    "CREATE TABLE CENTERS\n",
    "(\n",
    "DAY INT,\n",
    "MONTH INT,\n",
    "YEAR INT,\n",
    "CENTER_ID INT,\n",
    "NAME VARCHAR,\n",
    "DISTRICT_NAME VARCHAR,\n",
    "PINCODE INT,\n",
    "VACCINE VARCHAR,\n",
    "MIN_AGE_LIMIT INT,\n",
    "FEE INT\n",
    ")\"\"\"\n",
    "\n",
    "cur.execute(query)\n",
    "conn.commit()"
   ]
  },
  {
   "cell_type": "code",
   "execution_count": null,
   "metadata": {
    "pycharm": {
     "name": "#%%\n"
    }
   },
   "outputs": [],
   "source": [
    "query = \"\"\"\n",
    "CREATE TABLE DATA\n",
    "(\n",
    "DAY INT,\n",
    "MONTH INT,\n",
    "YEAR INT,\n",
    "POSITIVE INT,\n",
    "TESTS INT,\n",
    "RECOVERED INT,\n",
    "DEATHS INT,\n",
    "VACCINATED INT,\n",
    "FIRST_DOSE INT,\n",
    "SECOND_DOSE INT,\n",
    "ACTIVE_CASES INT,\n",
    "CONT_ZONES INT\n",
    ")\"\"\"\n",
    "\n",
    "cur.execute(query)\n",
    "conn.commit()"
   ]
  },
  {
   "cell_type": "code",
   "execution_count": null,
   "metadata": {
    "pycharm": {
     "name": "#%%\n"
    }
   },
   "outputs": [],
   "source": [
    "val['deaths'] = 332\n",
    "val['recovered'] = 20160\n",
    "val"
   ]
  },
  {
   "cell_type": "code",
   "execution_count": null,
   "metadata": {
    "pycharm": {
     "name": "#%%\n"
    }
   },
   "outputs": [],
   "source": [
    "# Cases -> AWS RS\n",
    "\n",
    "query = \"INSERT INTO DATA \" \\\n",
    "        \"VALUES({day},{month},{year},{positive},{tests},{recovered},{deaths},{vaccinated},{first_dose},{second_dose},{active_cases},{zones})\"\\\n",
    "        .format(**val)\n",
    "\n",
    "cur.execute(query)\n",
    "conn.commit()\n"
   ]
  },
  {
   "cell_type": "code",
   "execution_count": null,
   "outputs": [],
   "source": [
    "import boto3\n",
    "# TODO\n",
    "REGION = 'ap-south-1'\n",
    "ACCESS_KEY_ID = config.get('KEY', 'ACCESS_ID')\n",
    "SECRET_ACCESS_KEY = config.get('KEY', 'SECRET_ID')\n",
    "PATH_IN_COMPUTER = file\n",
    "BUCKET_NAME = 'rt-data'\n",
    "KEY = file # file path in S3\n",
    "\n",
    "s3_resource = boto3.resource(\n",
    "    's3',\n",
    "    region_name = REGION,\n",
    "    aws_access_key_id = ACCESS_KEY_ID,\n",
    "    aws_secret_access_key = SECRET_ACCESS_KEY\n",
    ")\n",
    "\n",
    "s3_resource.Bucket(BUCKET_NAME).put_object(\n",
    "    Key = KEY,\n",
    "    Body = open(PATH_IN_COMPUTER, 'rb')\n",
    ")"
   ],
   "metadata": {
    "collapsed": false,
    "pycharm": {
     "name": "#%%\n"
    }
   }
  },
  {
   "cell_type": "code",
   "execution_count": null,
   "metadata": {
    "pycharm": {
     "name": "#%%\n"
    }
   },
   "outputs": [],
   "source": [
    "# Vaccine -> AWS RS\n",
    "\n",
    "query = \"\"\"\n",
    "COPY centers FROM {}\n",
    "CREDENTIALS 'aws_iam_role={}'\n",
    "JSON {}\n",
    "REGION 'ap-south-1'\n",
    "COMPUPDATE OFF\n",
    "\"\"\"\n",
    "\n",
    "cur.execute(\n",
    "    query.format(\"s3://rt-data/{}\".format(file), config.get('IAM_ROLE', 'ARN'), \"s3://rt-data/json-path.json\")\n",
    ")\n",
    "conn.commit()\n",
    "\n"
   ]
  },
  {
   "cell_type": "code",
   "metadata": {
    "pycharm": {
     "name": "#%%\n"
    }
   },
   "source": [
    "conn.close()\n",
    "s3_resource.Object(BUCKET_NAME , KEY).delete()"
   ],
   "execution_count": null,
   "outputs": []
  },
  {
   "cell_type": "code",
   "execution_count": null,
   "metadata": {
    "pycharm": {
     "name": "#%%\n"
    }
   },
   "outputs": [],
   "source": []
  },
  {
   "cell_type": "code",
   "execution_count": null,
   "metadata": {
    "pycharm": {
     "name": "#%%\n"
    }
   },
   "outputs": [],
   "source": []
  },
  {
   "cell_type": "code",
   "execution_count": null,
   "metadata": {
    "pycharm": {
     "name": "#%%\n"
    }
   },
   "outputs": [],
   "source": []
  },
  {
   "cell_type": "code",
   "execution_count": null,
   "metadata": {},
   "outputs": [],
   "source": []
  }
 ],
 "metadata": {
  "kernelspec": {
   "display_name": "Python 3",
   "language": "python",
   "name": "python3"
  },
  "language_info": {
   "codemirror_mode": {
    "name": "ipython",
    "version": 3
   },
   "file_extension": ".py",
   "mimetype": "text/x-python",
   "name": "python",
   "nbconvert_exporter": "python",
   "pygments_lexer": "ipython3",
   "version": "3.8.5"
  }
 },
 "nbformat": 4,
 "nbformat_minor": 4
}