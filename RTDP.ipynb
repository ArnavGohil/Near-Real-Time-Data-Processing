{
 "cells": [
  {
   "cell_type": "code",
   "execution_count": 1,
   "metadata": {
    "collapsed": true
   },
   "outputs": [],
   "source": [
    "import os\n",
    "import tweepy"
   ]
  },
  {
   "cell_type": "code",
   "execution_count": 2,
   "outputs": [],
   "source": [
    "import configparser\n",
    "\n",
    "config = configparser.ConfigParser()\n",
    "config.read_file(open('dwh.cfg'))\n",
    "\n",
    "consumer_key = config.get('KEY', 'consumer_key')\n",
    "consumer_secret = config.get('KEY', 'consumer_secret')\n",
    "access_token = config.get('KEY', 'access_token')\n",
    "access_token_secret = config.get('KEY', 'access_token_secret')\n",
    "\n",
    "os.environ[\"GOOGLE_APPLICATION_CREDENTIALS\"] = config.get('KEY', 'json_loc')\n",
    "\n",
    "auth = tweepy.OAuthHandler(consumer_key, consumer_secret)\n",
    "auth.set_access_token(access_token, access_token_secret)\n",
    "api = tweepy.API(auth, wait_on_rate_limit=True)"
   ],
   "metadata": {
    "collapsed": false,
    "pycharm": {
     "name": "#%%\n"
    }
   }
  },
  {
   "cell_type": "code",
   "execution_count": 33,
   "outputs": [
    {
     "data": {
      "text/plain": "'2021-05-06'"
     },
     "execution_count": 33,
     "metadata": {},
     "output_type": "execute_result"
    }
   ],
   "source": [
    "search_words = \"Delhi Health Bulletin (from:CMODelhi)\"\n",
    "\n",
    "tweets = tweepy.Cursor(api.search,\n",
    "                       q=search_words,\n",
    "                       lang=\"en\",).items(1)\n",
    "\n",
    "image_url = \"\"\n",
    "# Iterate and print tweets\n",
    "for tweet in tweets:\n",
    "    print(tweet.text)\n",
    "    media = tweet.entities.get('media', [])\n",
    "    image_url = media[0]['media_url']\n",
    "    print(\"\\n\\n\")"
   ],
   "metadata": {
    "collapsed": false,
    "pycharm": {
     "name": "#%%\n"
    }
   }
  },
  {
   "cell_type": "code",
   "execution_count": 5,
   "outputs": [
    {
     "name": "stdout",
     "output_type": "stream",
     "text": [
      "GOVT. OF NCT OF DELHI\n",
      "Delhi State Health Bulletin_COVID -19\n",
      "(No. 428/ May 6th 2021)\n",
      "COVID-19 Positive Cases Status of last 24 hours\n",
      "Positive Cases\n",
      "19133\n",
      "Tests Conducted\n",
      "78780\n",
      "Positivity Rate\n",
      "Recovered/Discharged/Migrated\n",
      "24.29 %\n",
      "20028\n",
      "Deaths\n",
      "335\n",
      "COVID-19 Patient Management\n",
      "Total beds\n",
      "Оссирied\n",
      "20117\n",
      "Vacant\n",
      "Hospital\n",
      "21839\n",
      "1722\n",
      "Dedicated COVID Care Centre\n",
      "5525\n",
      "701\n",
      "4824\n",
      "Dedicated COVID Health Centre\n",
      "206\n",
      "116\n",
      "90\n",
      "Home Isolation\n",
      "50562\n",
      "COVID-19 Testing Status\n",
      "RTPCR/CBNAAT/True Nat tests conducted in last 24 hours\n",
      "64529\n",
      "Rapid antigen test conducted in last 24 hours\n",
      "14251\n",
      "Total tests done so far\n",
      "17597532\n",
      "Tests per million\n",
      "926185\n",
      "COVID-19 Vaccination Status\n",
      "Beneficiaries vaccinated in last 24 hours\n",
      "68205\n",
      "Beneficiaries vaccinated 1st dose in last 24 hours\n",
      "56857\n",
      "Beneficiaries vaccinated 2 nd dose in last 24 hours\n",
      "11348\n",
      "Cumulative beneficiaries vaccinated so far\n",
      "3552037\n",
      "Cumulative beneficiaries vaccinated 1st dose so far\n",
      "2776649\n",
      "Cumulative beneficiaries vaccinated 2nd dose so far\n",
      "775388\n",
      "COVID-19 Positive Cases Status : Cumulative\n",
      "Cumulative Positive Cases\n",
      "1273035\n",
      "7.27 %\n",
      "Cumulative Positivity Rate\n",
      "Recovered/Discharged/Migrated\n",
      "1164008\n",
      "Deaths\n",
      "18398\n",
      "Case Fatality Rate\n",
      "1.45 %\n",
      "Active Cases\n",
      "90629\n",
      "Total Number of Containment Zones as on date: 49123\n",
      "Calls received in Control Room: 902\n",
      "Total number of calls dispatched to ambulances: 1653\n",
      "Total number of calls refused: Nil\n",
      "All figures are tentative, subject to change on receipt of additional information\n",
      "HELPLINE NO. – 1031\n",
      "Helpline for COVID positive patients- 1800-111-747\n",
      "24x7 CONTROL ROOM NUMBERS: 22391014, 22302441,22304568,22300012, 22300036\n",
      "\n"
     ]
    }
   ],
   "source": [
    "from google.cloud import vision\n",
    "\n",
    "client = vision.ImageAnnotatorClient()\n",
    "image = vision.Image()\n",
    "image.source.image_uri = image_url\n",
    "\n",
    "response = client.text_detection(image=image)\n",
    "\n",
    "string = \"\"\n",
    "for text in response.text_annotations:\n",
    "    string = text.description\n",
    "    print(string)\n",
    "    break"
   ],
   "metadata": {
    "collapsed": false,
    "pycharm": {
     "name": "#%%\n"
    }
   }
  },
  {
   "cell_type": "code",
   "execution_count": 19,
   "outputs": [],
   "source": [
    "import re\n",
    "from datetime import datetime\n",
    "\n",
    "\n",
    "def getDay(string):\n",
    "    s = \"\"\n",
    "    for char in string:\n",
    "        if char.isdigit():\n",
    "            s += char\n",
    "\n",
    "    return int(s)\n",
    "\n",
    "\n",
    "def parseString(string):\n",
    "    val = dict()\n",
    "    try:\n",
    "        #Date\n",
    "        match = (re.search(\"/ \", string))\n",
    "        i = int(match.end())\n",
    "        match = (re.search(\"\\)\", string))\n",
    "        j = int(match.start())\n",
    "        print(string[i:j])\n",
    "        val['day'] = getDay(string[i:string.find(str(datetime.today().year)) - 1])\n",
    "        val['month'] = datetime.today().month\n",
    "        val['year'] = datetime.today().year\n",
    "\n",
    "        #+ve cases\n",
    "        i = string.find(\"Positive Cases\", string.find(\"Positive Cases\") + 1)\n",
    "        match = (re.search(\"Tests Conducted\", string))\n",
    "        j = int(match.start())\n",
    "        val['positive'] = string[i + len(\"Positive Cases\") + 1: j - 1]\n",
    "\n",
    "        #Tests\n",
    "        match = (re.search(\"Tests Conducted\", string))\n",
    "        i = int(match.end())\n",
    "        match = (re.search(\"Positivity Rate\", string))\n",
    "        j = int(match.start())\n",
    "        val['tests'] = string[i + 1:j - 1]\n",
    "\n",
    "        #Recovered\n",
    "        match = (re.search(\"%\", string))\n",
    "        i = int(match.end())\n",
    "        match = (re.search(\"Deaths\", string))\n",
    "        j = int(match.start())\n",
    "        val['recovered'] = string[i + 1:j - 1]\n",
    "\n",
    "        #Deaths\n",
    "        match = (re.search(\"Deaths\", string))\n",
    "        i = int(match.end())\n",
    "        match = (re.search(\"COVID-19 Patient Management\", string))\n",
    "        j = int(match.start())\n",
    "        val['deaths'] = string[i + 1:j - 1]\n",
    "\n",
    "        #Tot Vac\n",
    "        match = (re.search(\"Beneficiaries vaccinated in last 24 hours\", string))\n",
    "        i = int(match.end())\n",
    "        match = (re.search(\"Beneficiaries vaccinated 1\", string))\n",
    "        j = int(match.start())\n",
    "        val['vaccinated'] = string[i + 1:j - 1]\n",
    "\n",
    "        #1st dose\n",
    "        match = (re.search(\"dose in last 24 hours\", string))\n",
    "        i = int(match.end())\n",
    "        match = (re.search(\"Beneficiaries vaccinated 2\", string))\n",
    "        j = int(match.start())\n",
    "        val['first_dose'] = string[i + 1:j - 1]\n",
    "\n",
    "        #2nd dose\n",
    "        pat = \"dose in last 24 hours\"\n",
    "        pos = string.find(pat) + 1\n",
    "        p1 = string.find(pat, pos + 1)\n",
    "        i = p1 + len(pat)\n",
    "        match = (re.search(\"Cumulative beneficiaries vaccinated so far\", string))\n",
    "        j = int(match.start())\n",
    "        val['second_dose'] = string[i + 1:j - 1]\n",
    "\n",
    "        #Active Cases\n",
    "        match = (re.search(\"Active Cases\", string))\n",
    "        i = int(match.end())\n",
    "        match = (re.search(\"Total Number of Containment Zones as on date\", string))\n",
    "        j = int(match.start())\n",
    "        val['active_cases'] = string[i + 1:j - 1]\n",
    "\n",
    "        #Containment\n",
    "        match = (re.search(\"Total Number of Containment Zones as on date: \", string))\n",
    "        i = int(match.end())\n",
    "        match = (re.search(\"Calls received\", string))\n",
    "        j = int(match.start())\n",
    "        val['zones'] = string[i:j - 1]\n",
    "    except:\n",
    "        print(\"/\\/\\/\\ Error caught \\/\\/\\/\")\n",
    "        return None\n",
    "    print(val)\n",
    "    return val"
   ],
   "metadata": {
    "collapsed": false,
    "pycharm": {
     "name": "#%%\n"
    }
   }
  },
  {
   "cell_type": "code",
   "execution_count": 20,
   "outputs": [
    {
     "name": "stdout",
     "output_type": "stream",
     "text": [
      "May 6th 2021\n",
      "{'day': 6, 'month': 5, 'year': 2021, 'positive': '19133', 'tests': '78780', 'recovered': '20028', 'deaths': '335', 'vaccinated': '68205', 'first_dose': '56857', 'second_dose': '11348', 'active_cases': '90629', 'zones': '49123'}\n"
     ]
    },
    {
     "data": {
      "text/plain": "{'day': 6,\n 'month': 5,\n 'year': 2021,\n 'positive': '19133',\n 'tests': '78780',\n 'recovered': '20028',\n 'deaths': '335',\n 'vaccinated': '68205',\n 'first_dose': '56857',\n 'second_dose': '11348',\n 'active_cases': '90629',\n 'zones': '49123'}"
     },
     "execution_count": 20,
     "metadata": {},
     "output_type": "execute_result"
    }
   ],
   "source": [
    "parseString(string)"
   ],
   "metadata": {
    "collapsed": false,
    "pycharm": {
     "name": "#%%\n"
    }
   }
  },
  {
   "cell_type": "code",
   "execution_count": 21,
   "outputs": [],
   "source": [
    "###Vaccinations"
   ],
   "metadata": {
    "collapsed": false,
    "pycharm": {
     "name": "#%%\n"
    }
   }
  },
  {
   "cell_type": "code",
   "execution_count": 21,
   "outputs": [],
   "source": [
    "import json\n",
    "\n",
    "def parseJSON(js,date):\n",
    "    centres = js['centers']\n",
    "    lis = list()\n",
    "    for center in centres:\n",
    "        sessions = center['sessions']\n",
    "        for ses in sessions:\n",
    "            if (ses['date'] == date ) :\n",
    "                val = dict()\n",
    "                val['center_id'] = center['center_id']\n",
    "                val['name'] = center['name']\n",
    "                val['pincode'] = center['pincode']\n",
    "                val['district_name'] = center['district_name']\n",
    "                val['vaccine'] = ses['vaccine']\n",
    "                val['min_age_limit'] = ses['min_age_limit']\n",
    "                try :\n",
    "                    if (center['fee_type'] == \"Paid\"):\n",
    "                        val['fee'] = center['vaccine_fees'][0]['fee']\n",
    "                    else :\n",
    "                        val['fee'] =  0\n",
    "                except:\n",
    "                    val['fee'] =  0\n",
    "                lis.append(val)\n",
    "    return lis\n"
   ],
   "metadata": {
    "collapsed": false,
    "pycharm": {
     "name": "#%%\n"
    }
   }
  },
  {
   "cell_type": "code",
   "execution_count": 22,
   "outputs": [
    {
     "name": "stdout",
     "output_type": "stream",
     "text": [
      "110001\n",
      "110002\n",
      "110003\n",
      "110004\n",
      "110005\n",
      "110006\n",
      "110007\n",
      "110008\n",
      "110009\n",
      "110010\n",
      "110011\n",
      "110012\n",
      "110013\n",
      "110014\n",
      "110015\n",
      "110016\n",
      "110017\n",
      "110018\n",
      "110019\n",
      "110020\n",
      "110021\n",
      "110022\n",
      "110023\n",
      "110024\n",
      "110025\n",
      "110026\n",
      "110027\n",
      "110028\n",
      "110029\n",
      "110030\n",
      "110031\n",
      "110032\n",
      "110033\n",
      "110034\n",
      "110035\n",
      "110036\n",
      "110037\n",
      "110038\n",
      "110039\n",
      "110040\n",
      "110041\n",
      "110042\n",
      "110043\n",
      "110044\n",
      "110045\n",
      "110046\n",
      "110047\n",
      "110048\n",
      "110049\n",
      "110050\n",
      "110051\n",
      "110052\n",
      "110053\n",
      "110054\n",
      "110055\n",
      "110056\n",
      "110057\n",
      "110058\n",
      "110059\n",
      "110060\n",
      "110061\n",
      "110062\n",
      "110063\n",
      "110064\n",
      "110065\n",
      "110066\n",
      "110067\n",
      "110068\n",
      "110069\n",
      "110070\n",
      "110071\n",
      "110072\n",
      "110073\n",
      "110074\n",
      "110075\n",
      "110076\n",
      "110077\n",
      "110078\n",
      "110079\n",
      "110080\n",
      "110081\n",
      "110082\n",
      "110083\n",
      "110084\n",
      "110085\n",
      "110086\n",
      "110087\n",
      "110088\n",
      "110089\n",
      "110090\n",
      "110091\n",
      "110092\n",
      "110093\n",
      "110094\n",
      "110095\n",
      "110096\n"
     ]
    }
   ],
   "source": [
    "import requests\n",
    "import datetime\n",
    "\n",
    "payload = {}\n",
    "headers = {\n",
    "    'User-Agent': 'Mozilla/5.0 (Macintosh; Intel Mac OS X 10_15_7) AppleWebKit/605.1.15 (KHTML, like Gecko) Version/14.1 Safari/605.1.15'\n",
    "}\n",
    "\n",
    "i = 110001\n",
    "j = 110096\n",
    "\n",
    "val = dict()\n",
    "url = \"https://cdn-api.co-vin.in/api/v2/appointment/sessions/public/calendarByPin?pincode={}&date={}\"\n",
    "y = datetime.datetime.now()\n",
    "date = y.strftime(\"%d-%m-%Y\")\n",
    "\n",
    "while i <= j:\n",
    "    response = requests.get(url.format(i, date), headers=headers, data=payload)\n",
    "    print(i)\n",
    "    val[i] = parseJSON(response.json(),date)\n",
    "    i += 1"
   ],
   "metadata": {
    "collapsed": false,
    "pycharm": {
     "name": "#%%\n"
    }
   }
  },
  {
   "cell_type": "code",
   "execution_count": 23,
   "outputs": [],
   "source": [
    "import json\n",
    "with open(\"{}-centers.json\".format(date), \"w\") as outfile:\n",
    "    json.dump(val, outfile)"
   ],
   "metadata": {
    "collapsed": false,
    "pycharm": {
     "name": "#%%\n"
    }
   }
  },
  {
   "cell_type": "code",
   "execution_count": 41,
   "outputs": [
    {
     "data": {
      "text/plain": "datetime.datetime(2021, 5, 12, 20, 38, 39, 97989)"
     },
     "execution_count": 41,
     "metadata": {},
     "output_type": "execute_result"
    }
   ],
   "source": [
    "\n"
   ],
   "metadata": {
    "collapsed": false,
    "pycharm": {
     "name": "#%%\n"
    }
   }
  },
  {
   "cell_type": "code",
   "execution_count": null,
   "outputs": [],
   "source": [],
   "metadata": {
    "collapsed": false,
    "pycharm": {
     "name": "#%%\n"
    }
   }
  }
 ],
 "metadata": {
  "kernelspec": {
   "display_name": "Python 3",
   "language": "python",
   "name": "python3"
  },
  "language_info": {
   "codemirror_mode": {
    "name": "ipython",
    "version": 2
   },
   "file_extension": ".py",
   "mimetype": "text/x-python",
   "name": "python",
   "nbconvert_exporter": "python",
   "pygments_lexer": "ipython2",
   "version": "2.7.6"
  }
 },
 "nbformat": 4,
 "nbformat_minor": 0
}