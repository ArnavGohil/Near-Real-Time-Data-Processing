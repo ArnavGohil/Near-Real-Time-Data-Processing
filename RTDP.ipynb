{
 "cells": [
  {
   "cell_type": "code",
   "execution_count": 2,
   "metadata": {
    "collapsed": true
   },
   "outputs": [],
   "source": [
    "import os\n",
    "import tweepy"
   ]
  },
  {
   "cell_type": "code",
   "execution_count": 3,
   "outputs": [],
   "source": [
    "import configparser\n",
    "config = configparser.ConfigParser()\n",
    "config.read_file(open('dwh.cfg'))\n",
    "\n",
    "consumer_key= config.get('KEY','consumer_key')\n",
    "consumer_secret= config.get('KEY','consumer_secret')\n",
    "access_token= config.get('KEY','access_token')\n",
    "access_token_secret= config.get('KEY','access_token_secret')\n",
    "\n",
    "os.environ[\"GOOGLE_APPLICATION_CREDENTIALS\"]=config.get('KEY','json_loc')\n",
    "\n",
    "auth= tweepy.OAuthHandler(consumer_key,consumer_secret)\n",
    "auth.set_access_token(access_token,access_token_secret)\n",
    "api = tweepy.API(auth, wait_on_rate_limit=True)"
   ],
   "metadata": {
    "collapsed": false,
    "pycharm": {
     "name": "#%%\n"
    }
   }
  },
  {
   "cell_type": "code",
   "execution_count": 4,
   "outputs": [
    {
     "data": {
      "text/plain": "'2021-05-05'"
     },
     "execution_count": 4,
     "metadata": {},
     "output_type": "execute_result"
    }
   ],
   "source": [
    "import datetime\n",
    "\n",
    "x = datetime.datetime.now()\n",
    "x -= datetime.timedelta(days=1)\n",
    "date = x.strftime(\"%Y-%m-%d\")\n",
    "date"
   ],
   "metadata": {
    "collapsed": false,
    "pycharm": {
     "name": "#%%\n"
    }
   }
  },
  {
   "cell_type": "code",
   "execution_count": 5,
   "outputs": [
    {
     "name": "stdout",
     "output_type": "stream",
     "text": [
      "🏥Delhi Health Bulletin - 5th May 2021🏥 \n",
      "\n",
      "#DelhiFightsCorona https://t.co/I2dhSNqUtX\n",
      "\n",
      "\n",
      "\n"
     ]
    }
   ],
   "source": [
    "search_words = \"Delhi Health Bulletin (from:CMODelhi)\"\n",
    "date_since = date\n",
    "\n",
    "tweets = tweepy.Cursor(api.search,\n",
    "              q=search_words,\n",
    "              lang=\"en\",\n",
    "              since=date_since).items(1)\n",
    "\n",
    "image_url = \"\"\n",
    "# Iterate and print tweets\n",
    "for tweet in tweets:\n",
    "    print(tweet.text)\n",
    "    media = tweet.entities.get('media', [])\n",
    "    image_url = media[0]['media_url']\n",
    "    print(\"\\n\\n\")"
   ],
   "metadata": {
    "collapsed": false,
    "pycharm": {
     "name": "#%%\n"
    }
   }
  },
  {
   "cell_type": "code",
   "execution_count": 51,
   "outputs": [
    {
     "name": "stdout",
     "output_type": "stream",
     "text": [
      "GOVT. OF NCT OF DELHI\n",
      "Delhi State Health Bulletin _COVID -19\n",
      "(No. 427/ May 5th 2021)\n",
      "COVID-19 Positive Cases Status of last 24 hours\n",
      "Positive Cases\n",
      "20960\n",
      "Tests Conducted\n",
      "79491\n",
      "Positivity Rate\n",
      "Recovered/Discharged/Migrated\n",
      "26.37 %\n",
      "19209\n",
      "Deaths\n",
      "311\n",
      "COVID-19 Patient Management\n",
      "Total beds\n",
      "Оссиpied\n",
      "Vacant\n",
      "Hospital\n",
      "21528\n",
      "20010\n",
      "1518\n",
      "Dedicated COVID Care Centre\n",
      "5525\n",
      "691\n",
      "4834\n",
      "Dedicated COVID Health Centre\n",
      "206\n",
      "121\n",
      "85\n",
      "Home Isolation\n",
      "50077\n",
      "COVID-19 Testing Status\n",
      "RTPCR/CBNAAT/True Nat tests conducted in last 24 hours\n",
      "62767\n",
      "Rapid antigen test conducted in last 24 hours\n",
      "16724\n",
      "Total tests done so far\n",
      "17518752\n",
      "Tests per million\n",
      "922039\n",
      "COVID-19 Vaccination Status\n",
      "Beneficiaries vaccinated in last 24 hours\n",
      "90365\n",
      "Beneficiaries vaccinated 1st dose in last 24 hours\n",
      "64983\n",
      "Beneficiaries vaccinated 2nd dose in last 24 hours\n",
      "25382\n",
      "Cumulative beneficiaries vaccinated so far\n",
      "3483832\n",
      "Cumulative beneficiaries vaccinated 1 dose so far\n",
      "2719792\n",
      "Cumulative beneficiaries vaccinated 2nd dose so far\n",
      "764040\n",
      "COVID-19 Positive Cases Status : Cumulative\n",
      "Cumulative Positive Cases\n",
      "1253902\n",
      "Cumulative Positivity Rate\n",
      "7.16 %\n",
      "Recovered/Discharged/Migrated\n",
      "1143980\n",
      "Deaths\n",
      "18063\n",
      "Case Fatality Rate\n",
      "1.44 %\n",
      "Active Cases\n",
      "91859\n",
      "Total Number of Containment Zones as on date: 47704\n",
      "Calls received in Control Room: 1022\n",
      "Total number of calls dispatched to ambulances: 1685\n",
      "Total number of calls refused: Nil\n",
      "Hon'ble Deputy Chief Minister chaired a meeting through Video Conference on COVID-19\n",
      "management in Delhi.\n",
      "All figures are tentative, subject to change on receipt of additional information\n",
      "HELPLINE NO. – 1031\n",
      "Helpline for COVID positive patients- 1800-111-747\n",
      "24x7 CONTROL ROOM NUMBERS: 22391014, 22302441,22304568,22300012, 22300036\n",
      "\n"
     ]
    }
   ],
   "source": [
    "from google.cloud import vision\n",
    "\n",
    "client = vision.ImageAnnotatorClient()\n",
    "image = vision.Image()\n",
    "image.source.image_uri = image_url\n",
    "\n",
    "response = client.text_detection(image=image)\n",
    "\n",
    "string = \"\"\n",
    "for text in response.text_annotations:\n",
    "    string =  text.description\n",
    "    print(string)\n",
    "    break"
   ],
   "metadata": {
    "collapsed": false,
    "pycharm": {
     "name": "#%%\n"
    }
   }
  },
  {
   "cell_type": "code",
   "execution_count": 52,
   "outputs": [
    {
     "name": "stdout",
     "output_type": "stream",
     "text": [
      "May 5th 2021\n",
      "20960\n",
      "79491\n",
      "19209\n",
      "311\n",
      "90365\n",
      "64983\n",
      "25382\n",
      "91859\n",
      "47704\n"
     ]
    }
   ],
   "source": [],
   "metadata": {
    "collapsed": false,
    "pycharm": {
     "name": "#%%\n"
    }
   }
  },
  {
   "cell_type": "code",
   "execution_count": null,
   "outputs": [],
   "source": [],
   "metadata": {
    "collapsed": false,
    "pycharm": {
     "name": "#%%\n"
    }
   }
  },
  {
   "cell_type": "code",
   "execution_count": null,
   "outputs": [],
   "source": [],
   "metadata": {
    "collapsed": false,
    "pycharm": {
     "name": "#%%\n"
    }
   }
  },
  {
   "cell_type": "code",
   "execution_count": null,
   "outputs": [],
   "source": [],
   "metadata": {
    "collapsed": false,
    "pycharm": {
     "name": "#%%\n"
    }
   }
  },
  {
   "cell_type": "code",
   "execution_count": null,
   "outputs": [],
   "source": [],
   "metadata": {
    "collapsed": false,
    "pycharm": {
     "name": "#%%\n"
    }
   }
  },
  {
   "cell_type": "code",
   "execution_count": null,
   "outputs": [],
   "source": [],
   "metadata": {
    "collapsed": false,
    "pycharm": {
     "name": "#%%\n"
    }
   }
  },
  {
   "cell_type": "code",
   "execution_count": null,
   "outputs": [],
   "source": [],
   "metadata": {
    "collapsed": false,
    "pycharm": {
     "name": "#%%\n"
    }
   }
  }
 ],
 "metadata": {
  "kernelspec": {
   "display_name": "Python 3",
   "language": "python",
   "name": "python3"
  },
  "language_info": {
   "codemirror_mode": {
    "name": "ipython",
    "version": 2
   },
   "file_extension": ".py",
   "mimetype": "text/x-python",
   "name": "python",
   "nbconvert_exporter": "python",
   "pygments_lexer": "ipython2",
   "version": "2.7.6"
  }
 },
 "nbformat": 4,
 "nbformat_minor": 0
}