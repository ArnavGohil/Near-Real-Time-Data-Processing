{
 "cells": [
  {
   "cell_type": "markdown",
   "metadata": {
    "collapsed": true,
    "pycharm": {
     "name": "#%% md\n"
    }
   },
   "source": [
    "# Covid19 New Delhi Dashboard\n"
   ]
  },
  {
   "cell_type": "code",
   "source": [
    "import os\n",
    "\n",
    "import psycopg2\n",
    "import tweepy\n",
    "import configparser\n",
    "from google.cloud import vision\n",
    "import datetime\n",
    "import re\n",
    "from PIL import Image\n",
    "import requests\n",
    "import io\n",
    "import json"
   ],
   "metadata": {
    "collapsed": false,
    "pycharm": {
     "name": "#%%\n"
    }
   },
   "execution_count": null,
   "outputs": []
  },
  {
   "cell_type": "code",
   "execution_count": null,
   "outputs": [],
   "source": [
    "# Initialising the keys required\n",
    "\n",
    "config = configparser.ConfigParser()\n",
    "config.read_file(open('dwh.cfg'))\n",
    "\n",
    "consumer_key = config.get('KEY', 'consumer_key')\n",
    "consumer_secret = config.get('KEY', 'consumer_secret')\n",
    "access_token = config.get('KEY', 'access_token')\n",
    "access_token_secret = config.get('KEY', 'access_token_secret')\n",
    "\n",
    "os.environ[\"GOOGLE_APPLICATION_CREDENTIALS\"] = config.get('KEY', 'json_loc')\n",
    "\n",
    "auth = tweepy.OAuthHandler(consumer_key, consumer_secret)\n",
    "auth.set_access_token(access_token, access_token_secret)\n",
    "api = tweepy.API(auth, wait_on_rate_limit=True)\n"
   ],
   "metadata": {
    "collapsed": false,
    "pycharm": {
     "name": "#%%\n"
    }
   }
  },
  {
   "cell_type": "code",
   "execution_count": null,
   "outputs": [],
   "source": [
    "date = datetime.datetime.now()\n",
    "file = \"{}-centers.json\".format(date.strftime(\"%d-%m-%Y\"))\n",
    "file_name = \"{}-data.json\".format(date.strftime(\"%d-%m-%Y\"))"
   ],
   "metadata": {
    "collapsed": false,
    "pycharm": {
     "name": "#%%\n"
    }
   }
  },
  {
   "cell_type": "code",
   "execution_count": null,
   "outputs": [],
   "source": [
    "# Fetching the latest Health Bulletin tweet from Chief Minister's Account\n",
    "\n",
    "search_words = \"Delhi Health Bulletin (from:CMODelhi)\"\n",
    "\n",
    "tweets = tweepy.Cursor(api.search,\n",
    "                       q=search_words,\n",
    "                       lang=\"en\", ).items(1)\n",
    "\n",
    "image_url = \"\"\n",
    "# Iterate and print tweets\n",
    "for tweet in tweets:\n",
    "    print(tweet.text)\n",
    "    media = tweet.entities.get('media', [])\n",
    "    image_url = media[0]['media_url']\n",
    "    print(image_url)\n"
   ],
   "metadata": {
    "collapsed": false,
    "pycharm": {
     "name": "#%%\n"
    }
   }
  },
  {
   "cell_type": "code",
   "execution_count": null,
   "outputs": [],
   "source": [
    "data_dict = dict()\n",
    "y = datetime.datetime.now()\n",
    "y -= datetime.timedelta(days=2)\n",
    "data_dict['day'] = y.day\n",
    "data_dict['month'] = y.month\n",
    "data_dict['year'] = y.year\n"
   ],
   "metadata": {
    "collapsed": false,
    "pycharm": {
     "name": "#%%\n"
    }
   }
  },
  {
   "cell_type": "code",
   "execution_count": null,
   "outputs": [],
   "source": [
    "# Converting Image to Text\n",
    "\n",
    "client = vision.ImageAnnotatorClient()\n",
    "image = vision.Image()\n",
    "image.source.image_uri = image_url\n",
    "\n",
    "response = client.text_detection(image=image)\n",
    "\n",
    "out_string = \"\"\n",
    "for text in response.text_annotations:\n",
    "    string = text.description\n",
    "    break\n",
    "\n",
    "print(out_string)\n",
    "\n",
    "if response.error.message:\n",
    "    raise Exception(\n",
    "        '{}\\nFor more info on error messages, check: '\n",
    "        'https://cloud.google.com/apis/design/errors'.format(\n",
    "            response.error.message))"
   ],
   "metadata": {
    "collapsed": false,
    "pycharm": {
     "name": "#%%\n"
    }
   }
  },
  {
   "cell_type": "code",
   "execution_count": null,
   "outputs": [],
   "source": [
    "# Extracting Active Cases\n",
    "match = (re.search(\"Active Cases\", out_string))\n",
    "i = int(match.end())\n",
    "match = (re.search(\"Total Number of Containment Zones as on date\", out_string))\n",
    "j = int(match.start())\n",
    "data_dict['active_cases'] = out_string[i + 1:j - 1]\n",
    "\n",
    "# Extracting Containment\n",
    "match = (re.search(\"Total Number of Containment Zones as on date: \", out_string))\n",
    "i = int(match.end())\n",
    "match = (re.search(\"Calls received\", out_string))\n",
    "j = int(match.start())\n",
    "data_dict['zones'] = out_string[i:j - 1]"
   ],
   "metadata": {
    "collapsed": false,
    "pycharm": {
     "name": "#%%\n"
    }
   }
  },
  {
   "cell_type": "code",
   "execution_count": null,
   "outputs": [],
   "source": [
    "def getNum(str):\n",
    "    if len(str) == 0: return\n",
    "    s = \"\"\n",
    "    for char in str:\n",
    "        if char.isdigit():\n",
    "            s += char\n",
    "    if len(s) == 0: return\n",
    "    return int(s)"
   ],
   "metadata": {
    "collapsed": false,
    "pycharm": {
     "name": "#%%\n"
    }
   }
  },
  {
   "cell_type": "code",
   "execution_count": null,
   "outputs": [],
   "source": [
    "# Cropping the image to get more parameters\n",
    "\n",
    "im = Image.open(requests.get(image_url, stream=True).raw)\n",
    "\n",
    "# Setting the points for cropped image\n",
    "left = 500\n",
    "top = 127\n",
    "right = 700\n",
    "bottom = 300\n",
    "\n",
    "# Cropped image of above dimension\n",
    "im1 = im.crop((left, top, right, bottom))\n",
    "\n",
    "img_byte_arr = io.BytesIO()\n",
    "im1.save(img_byte_arr, format='PNG')\n",
    "img_byte_arr = img_byte_arr.getvalue()\n",
    "\n",
    "image = vision.Image(content=img_byte_arr)\n",
    "\n",
    "client = vision.ImageAnnotatorClient()\n",
    "response = client.text_detection(image=image)\n",
    "texts = response.text_annotations\n",
    "string = \"\"\n",
    "for text in texts:\n",
    "    string = text.description\n",
    "    break\n",
    "print(string)\n",
    "\n",
    "l = 1\n",
    "for word in string.split(\"\\n\"):\n",
    "    i = getNum(word)\n",
    "    if i == 24: continue\n",
    "    if l == 1: data_dict[\"positive\"] = i\n",
    "    if l == 2: data_dict[\"tests\"] = i\n",
    "    if l == 4: data_dict[\"recovered\"] = i\n",
    "    if l == 5: data_dict[\"deaths\"] = i\n",
    "    l += 1\n",
    "\n",
    "if response.error.message:\n",
    "    raise Exception(\n",
    "        '{}\\nFor more info on error messages, check: '\n",
    "        'https://cloud.google.com/apis/design/errors'.format(\n",
    "            response.error.message))\n"
   ],
   "metadata": {
    "collapsed": false,
    "pycharm": {
     "name": "#%%\n"
    }
   }
  },
  {
   "cell_type": "code",
   "execution_count": null,
   "outputs": [],
   "source": [
    "im = Image.open(requests.get(image_url, stream=True).raw)\n",
    "\n",
    "# Setting the points for cropped image\n",
    "left = 525\n",
    "top = 590\n",
    "right = 700\n",
    "bottom = 750\n",
    "\n",
    "# Cropped image of above dimension\n",
    "im1 = im.crop((left, top, right, bottom))\n",
    "\n",
    "img_byte_arr = io.BytesIO()\n",
    "im1.save(img_byte_arr, format='PNG')\n",
    "img_byte_arr = img_byte_arr.getvalue()\n",
    "\n",
    "image = vision.Image(content=img_byte_arr)\n",
    "\n",
    "client = vision.ImageAnnotatorClient()\n",
    "response = client.text_detection(image=image)\n",
    "texts = response.text_annotations\n",
    "\n",
    "string = \"\"\n",
    "for text in texts:\n",
    "    string = text.description\n",
    "    break\n",
    "print(string)\n",
    "\n",
    "l = 1\n",
    "for word in string.split(\"\\n\"):\n",
    "    i = getNum(word)\n",
    "    if i == 24: continue\n",
    "    if l == 1: data_dict[\"vaccinated\"] = i\n",
    "    if l == 2: data_dict[\"first_dose\"] = i\n",
    "    if l == 3: data_dict[\"second_dose\"] = i\n",
    "    if l >= 4: break\n",
    "    l += 1\n",
    "\n",
    "if response.error.message:\n",
    "    raise Exception(\n",
    "        '{}\\nFor more info on error messages, check: '\n",
    "        'https://cloud.google.com/apis/design/errors'.format(\n",
    "            response.error.message))\n",
    "\n"
   ],
   "metadata": {
    "collapsed": false,
    "pycharm": {
     "name": "#%%\n"
    }
   }
  },
  {
   "cell_type": "code",
   "execution_count": null,
   "outputs": [],
   "source": [
    "# Writing the data dictionary to JSON File\n",
    "\n",
    "print(data_dict)\n",
    "with open(file_name, \"w\") as outfile:\n",
    "    json.dump(data_dict, outfile)"
   ],
   "metadata": {
    "collapsed": false,
    "pycharm": {
     "name": "#%%\n"
    }
   }
  },
  {
   "cell_type": "code",
   "execution_count": null,
   "outputs": [],
   "source": [
    "def parseJSON(js, date, lis, dat):\n",
    "    centres = js['centers']\n",
    "    for center in centres:\n",
    "        sessions = center['sessions']\n",
    "        for ses in sessions:\n",
    "            if (ses['date'] == date):\n",
    "                val = dict()\n",
    "                val['day'] = dat.day\n",
    "                val['month'] = dat.month\n",
    "                val['year'] = dat.year\n",
    "                val['center_id'] = center['center_id']\n",
    "                val['name'] = center['name']\n",
    "                val['pincode'] = center['pincode']\n",
    "                val['district_name'] = center['district_name']\n",
    "                val['vaccine'] = ses['vaccine']\n",
    "                val['min_age_limit'] = ses['min_age_limit']\n",
    "                try:\n",
    "                    if (center['fee_type'] == \"Paid\"):\n",
    "                        val['fee'] = center['vaccine_fees'][0]['fee']\n",
    "                    else:\n",
    "                        val['fee'] = 0\n",
    "                except:\n",
    "                    val['fee'] = 0\n",
    "                lis.append(val)"
   ],
   "metadata": {
    "collapsed": false,
    "pycharm": {
     "name": "#%%\n"
    }
   }
  },
  {
   "cell_type": "code",
   "execution_count": null,
   "outputs": [],
   "source": [
    "# Fetching Vaccine Center Data\n",
    "payload = {}\n",
    "headers = {\n",
    "    'User-Agent': 'Mozilla/5.0 (Macintosh; Intel Mac OS X 10_15_7) AppleWebKit/605.1.15 (KHTML, like Gecko) Version/14.1 Safari/605.1.15'\n",
    "}\n",
    "\n",
    "i = 110001\n",
    "j = 110096\n",
    "\n",
    "lis = list()\n",
    "url = \"https://cdn-api.co-vin.in/api/v2/appointment/sessions/public/calendarByPin?pincode={}&date={}\"\n",
    "y = datetime.datetime.now()\n",
    "date = y.strftime(\"%d-%m-%Y\")\n",
    "\n",
    "while i <= j:\n",
    "    response = requests.get(url.format(i, date), headers=headers, data=payload)\n",
    "    parseJSON(response.json(), date, lis, y)\n",
    "    i += 1\n"
   ],
   "metadata": {
    "collapsed": false,
    "pycharm": {
     "name": "#%%\n"
    }
   }
  },
  {
   "cell_type": "code",
   "execution_count": null,
   "outputs": [],
   "source": [
    "# Writing the centers list to JSON File\n",
    "with open(file, \"w\") as outfile:\n",
    "    json.dump(lis, outfile)"
   ],
   "metadata": {
    "collapsed": false,
    "pycharm": {
     "name": "#%%\n"
    }
   }
  },
  {
   "cell_type": "code",
   "execution_count": null,
   "outputs": [],
   "source": [],
   "metadata": {
    "collapsed": false,
    "pycharm": {
     "name": "#%%\n"
    }
   }
  },
  {
   "cell_type": "code",
   "execution_count": null,
   "outputs": [],
   "source": [
    "#Connecting to AWS Redshift\n",
    "config = configparser.ConfigParser()\n",
    "config.read('dwh.cfg')\n",
    "\n",
    "# Connect to DB and return the connection\n",
    "conn = psycopg2.connect(\"host={} dbname={} user={} password={} port={}\".format(*config['CLUSTER'].values()))\n",
    "cur = conn.cursor()\n"
   ],
   "metadata": {
    "collapsed": false,
    "pycharm": {
     "name": "#%%\n"
    }
   }
  },
  {
   "cell_type": "code",
   "execution_count": null,
   "outputs": [],
   "source": [
    "query = \"\"\"\n",
    "CREATE TABLE CENTERS\n",
    "(\n",
    "DAY INT,\n",
    "MONTH INT,\n",
    "YEAR INT,\n",
    "CENTER_ID INT,\n",
    "NAME VARCHAR,\n",
    "DISTRICT_NAME VARCHAR,\n",
    "PINCODE INT,\n",
    "VACCINE VARCHAR,\n",
    "MIN_AGE_LIMIT INT,\n",
    "FEE INT\n",
    ")\"\"\"\n",
    "\n",
    "cur.execute(query)\n",
    "conn.commit()\n"
   ],
   "metadata": {
    "collapsed": false,
    "pycharm": {
     "name": "#%%\n"
    }
   }
  },
  {
   "cell_type": "code",
   "execution_count": null,
   "outputs": [],
   "source": [
    "query = \"\"\"\n",
    "CREATE TABLE DATA\n",
    "(\n",
    "DAY INT,\n",
    "MONTH INT,\n",
    "YEAR INT,\n",
    "POSITIVE INT,\n",
    "TESTS INT,\n",
    "RECOVERED INT,\n",
    "DEATHS INT,\n",
    "VACCINATED INT,\n",
    "FIRST_DOSE INT,\n",
    "SECOND_DOSE INT,\n",
    "ACTIVE_CASES INT,\n",
    "CONT_ZONES INT\n",
    ")\"\"\"\n",
    "\n",
    "cur.execute(query)\n",
    "conn.commit()"
   ],
   "metadata": {
    "collapsed": false,
    "pycharm": {
     "name": "#%%\n"
    }
   }
  },
  {
   "cell_type": "code",
   "execution_count": null,
   "outputs": [],
   "source": [
    "# Adding data to DATA table\n",
    "query = \"INSERT INTO DATA \" \\\n",
    "        \"VALUES({day},{month},{year},{positive},{tests},{recovered},{deaths},{vaccinated},{first_dose},{second_dose},{active_cases},{zones})\"\n",
    "\n",
    "data = json.load(open(file_name))\n",
    "str = query.format(**data)\n",
    "print(str)\n",
    "cur.execute(str)\n",
    "conn.commit()\n"
   ],
   "metadata": {
    "collapsed": false,
    "pycharm": {
     "name": "#%%\n"
    }
   }
  },
  {
   "cell_type": "code",
   "execution_count": null,
   "outputs": [],
   "source": [
    "# Adding data to CENTERS table\n",
    "query = \"INSERT INTO CENTERS(day,month,year,center_id,name,pincode,district_name,vaccine,min_age_limit,fee) \" \\\n",
    "        \"VALUES({day},{month},{year},{center_id},'{name}',{pincode},'{district_name}','{vaccine}',{min_age_limit},{fee})\"\n",
    "\n",
    "data = json.load(open(file))\n",
    "for vaues in data:\n",
    "    str = query.format(**vaues)\n",
    "    print(str)\n",
    "    cur.execute(str)\n",
    "    conn.commit()\n"
   ],
   "metadata": {
    "collapsed": false,
    "pycharm": {
     "name": "#%%\n"
    }
   }
  },
  {
   "cell_type": "code",
   "execution_count": null,
   "outputs": [],
   "source": [
    "# Closing the connection\n",
    "conn.close()"
   ],
   "metadata": {
    "collapsed": false,
    "pycharm": {
     "name": "#%%\n"
    }
   }
  },
  {
   "cell_type": "code",
   "execution_count": null,
   "outputs": [],
   "source": [],
   "metadata": {
    "collapsed": false,
    "pycharm": {
     "name": "#%%\n"
    }
   }
  },
  {
   "cell_type": "code",
   "execution_count": null,
   "outputs": [],
   "source": [],
   "metadata": {
    "collapsed": false,
    "pycharm": {
     "name": "#%%\n"
    }
   }
  },
  {
   "cell_type": "code",
   "execution_count": null,
   "outputs": [],
   "source": [],
   "metadata": {
    "collapsed": false,
    "pycharm": {
     "name": "#%%\n"
    }
   }
  }
 ],
 "metadata": {
  "kernelspec": {
   "display_name": "Python 3",
   "language": "python",
   "name": "python3"
  },
  "language_info": {
   "codemirror_mode": {
    "name": "ipython",
    "version": 2
   },
   "file_extension": ".py",
   "mimetype": "text/x-python",
   "name": "python",
   "nbconvert_exporter": "python",
   "pygments_lexer": "ipython2",
   "version": "2.7.6"
  }
 },
 "nbformat": 4,
 "nbformat_minor": 0
}